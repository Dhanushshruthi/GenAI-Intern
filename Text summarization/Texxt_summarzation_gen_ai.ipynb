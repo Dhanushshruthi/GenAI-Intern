{
  "nbformat": 4,
  "nbformat_minor": 0,
  "metadata": {
    "colab": {
      "provenance": []
    },
    "kernelspec": {
      "name": "python3",
      "display_name": "Python 3"
    },
    "language_info": {
      "name": "python"
    }
  },
  "cells": [
    {
      "cell_type": "code",
      "source": [
        "import nltk\n",
        "from nltk.tokenize import sent_tokenize, word_tokenize\n",
        "from nltk.corpus import stopwords\n",
        "from nltk.probability import FreqDist\n",
        "from collections import defaultdict\n",
        "import string\n",
        "\n",
        "# Download necessary NLTK data\n",
        "nltk.download('punkt')\n",
        "nltk.download('stopwords')\n",
        "# Download the 'punkt_tab' data package\n",
        "nltk.download('punkt_tab') # This line is added to download the necessary tokenizer data\n",
        "\n",
        "def summarize_text(text, num_sentences=3):\n",
        "    # Tokenize text into sentences\n",
        "    sentences = sent_tokenize(text)\n",
        "\n",
        "    # Tokenize text into words and remove stopwords and punctuation\n",
        "    stop_words = set(stopwords.words('english'))\n",
        "    words = word_tokenize(text.lower())\n",
        "    words = [word for word in words if word not in stop_words and word not in string.punctuation]\n",
        "\n",
        "    # Calculate word frequencies\n",
        "    word_frequencies = FreqDist(words)\n",
        "\n",
        "    # Normalize word frequencies\n",
        "    max_frequency = max(word_frequencies.values())\n",
        "    for word in word_frequencies:\n",
        "        word_frequencies[word] /= max_frequency\n",
        "\n",
        "    # Score each sentence based on word frequencies\n",
        "    sentence_scores = defaultdict(int)\n",
        "    for sentence in sentences:\n",
        "        for word in word_tokenize(sentence.lower()):\n",
        "            if word in word_frequencies:\n",
        "                sentence_scores[sentence] += word_frequencies[word]\n",
        "\n",
        "    # Sort sentences by their scores\n",
        "    ranked_sentences = sorted(sentence_scores, key=sentence_scores.get, reverse=True)\n",
        "\n",
        "    # Select top-ranked sentences\n",
        "    summary = \" \".join(ranked_sentences[:num_sentences])\n",
        "    return summary\n",
        "\n",
        "# Example usage\n",
        "text = \"\"\"\n",
        "Natural Language Processing (NLP) is a subfield of artificial intelligence that deals with the interaction between computers and humans using natural language. The ultimate objective of NLP is to read, decipher, understand, and make sense of human language in a valuable way.\n",
        "By utilizing NLP, computers can process large amounts of natural language data. Applications of NLP are wide-ranging, including machine translation, chatbots, and text summarization.\n",
        "\"\"\"\n",
        "print(\"Original Text:\")\n",
        "print(text)\n",
        "print(\"\\nSummarized Text:\")\n",
        "print(summarize_text(text, num_sentences=2))"
      ],
      "metadata": {
        "colab": {
          "base_uri": "https://localhost:8080/"
        },
        "id": "MlkMVhQqTad1",
        "outputId": "bd8bf276-6975-48ea-e475-df97287c00e0"
      },
      "execution_count": 2,
      "outputs": [
        {
          "output_type": "stream",
          "name": "stderr",
          "text": [
            "[nltk_data] Downloading package punkt to /root/nltk_data...\n",
            "[nltk_data]   Package punkt is already up-to-date!\n",
            "[nltk_data] Downloading package stopwords to /root/nltk_data...\n",
            "[nltk_data]   Package stopwords is already up-to-date!\n",
            "[nltk_data] Downloading package punkt_tab to /root/nltk_data...\n",
            "[nltk_data]   Unzipping tokenizers/punkt_tab.zip.\n"
          ]
        },
        {
          "output_type": "stream",
          "name": "stdout",
          "text": [
            "Original Text:\n",
            "\n",
            "Natural Language Processing (NLP) is a subfield of artificial intelligence that deals with the interaction between computers and humans using natural language. The ultimate objective of NLP is to read, decipher, understand, and make sense of human language in a valuable way.\n",
            "By utilizing NLP, computers can process large amounts of natural language data. Applications of NLP are wide-ranging, including machine translation, chatbots, and text summarization.\n",
            "\n",
            "\n",
            "Summarized Text:\n",
            "\n",
            "Natural Language Processing (NLP) is a subfield of artificial intelligence that deals with the interaction between computers and humans using natural language. The ultimate objective of NLP is to read, decipher, understand, and make sense of human language in a valuable way.\n"
          ]
        }
      ]
    }
  ]
}